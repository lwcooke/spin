{
 "cells": [
  {
   "cell_type": "markdown",
   "metadata": {},
   "source": [
    "# Spin-1 Non-Abelian Geometric Phase via Floquet Engineering"
   ]
  },
  {
   "cell_type": "code",
   "execution_count": 2,
   "metadata": {},
   "outputs": [],
   "source": [
    "import numpy as np\n",
    "import qutip as qt\n",
    "import matplotlib.pyplot as plt"
   ]
  },
  {
   "cell_type": "markdown",
   "metadata": {},
   "source": [
    "$$ \\hat{\\mathcal{H}} = \\frac{\\tilde{\\Omega}}{2}\\left( \\sin\\phi \\hat{F}_x + \\cos\\phi \\hat{F}_y \\right) + \\tilde{\\delta} \\hat{F}_z $$\n",
    "Recall the minus plus sign in front of $\\tilde{\\delta}$ here, should probably be a minus.\n",
    "\n",
    "$$ \\tilde{\\Omega} = \\Omega_0 \\sin\\Omega t \\cos\\omega t $$\n",
    "$$ \\tilde{\\delta} = \\frac{\\Omega_0}{2} \\cos\\Omega t \\cos\\omega t $$\n",
    "\n",
    "$$ \\hat{\\mathcal{H}}\\left( t \\right) = \\Omega_0 \\vec{r} \\cdot \\hat{\\vec{\\sigma}} \\cos\\omega t$$\n",
    "\n",
    "$$ \\vec{r} = \\left( \\sin\\Omega t \\cos \\Phi, \\sin\\Omega t \\sin \\Phi, \\cos\\Omega t \\right)^T $$"
   ]
  },
  {
   "cell_type": "code",
   "execution_count": null,
   "metadata": {},
   "outputs": [],
   "source": [
    "#----- Input Parameters -----\n",
    "Omega0 = 2*np.pi * 1 #Rabi frequency\n",
    "Phi = 0 #Operator phase\n",
    "n_cyc = 2 #Number of Rabi oscillations per op.\n",
    "\n",
    "#--- Computed Values ---\n",
    "delta = Omega0/2 #Field detuning\n",
    "Omega = (1/n_cyc)*Omega0 #Slow freq.\n",
    "omega = 2*Omega0 #Floquet freq.\n",
    "fmod = 2*Omega0 #Modulation frequency\n",
    "\n",
    "#--- Setup Evolution ---\n",
    "periods = 4 #Number of periods of Omega to simulate over\n",
    "t = np.linspace(0, periods*(2*np.pi/Omega), num=500) #Time axis\n",
    "\n",
    "#--- Initial States ---\n",
    "psi1, psi2, psi3 = qt.basis(3,0), qt.basis(3,1), qt.basis(3,2) #Three-level basis states\n",
    "psi = psi1 #Initial state\n",
    "psi = psi.unit() #Force normalization"
   ]
  },
  {
   "cell_type": "code",
   "execution_count": 3,
   "metadata": {},
   "outputs": [],
   "source": [
    "#----- Global Settings -----\n",
    "sx, sy, sz = qt.operators.jmat(1, 'x'), qt.operators.jmat(1, 'y'), qt.operators.jmat(1, 'z') #Shorthand spin matrices\n",
    "\n",
    "#--- Projection Operators ---\n",
    "p1, p2, p3 = psi1.proj(), psi2.proj(), psi3.proj() #Project onto bare spins (z-basis)\n",
    "eigx, eigy = sx.eigenstates(), sy.eigenstates() #eigenstates of sx, sy\n",
    "px1, px2, px3 = eigx[1][0].proj(), eigx[1][1].proj(), eigx[1][2].proj() #Corresponding proj. ops.\n",
    "py1, py2, py3 = eigy[1][0].proj(), eigy[1][1].proj(), eigy[1][2].proj() #Corresponding proj. ops.\n",
    "\n",
    "proj_ops = [p1, p2, p3, px1, px2, px3, py1, py2, py3] #All ops. in list"
   ]
  },
  {
   "cell_type": "code",
   "execution_count": null,
   "metadata": {},
   "outputs": [],
   "source": []
  }
 ],
 "metadata": {
  "kernelspec": {
   "display_name": "Python 3",
   "language": "python",
   "name": "python3"
  },
  "language_info": {
   "codemirror_mode": {
    "name": "ipython",
    "version": 3
   },
   "file_extension": ".py",
   "mimetype": "text/x-python",
   "name": "python",
   "nbconvert_exporter": "python",
   "pygments_lexer": "ipython3",
   "version": "3.7.9"
  }
 },
 "nbformat": 4,
 "nbformat_minor": 4
}
